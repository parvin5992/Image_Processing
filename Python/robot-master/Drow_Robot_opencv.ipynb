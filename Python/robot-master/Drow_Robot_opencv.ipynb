{
 "cells": [
  {
   "cell_type": "code",
   "execution_count": 1,
   "id": "6b242895",
   "metadata": {},
   "outputs": [],
   "source": [
    "import cv2\n",
    "import numpy as np"
   ]
  },
  {
   "cell_type": "code",
   "execution_count": 53,
   "id": "5215b583",
   "metadata": {},
   "outputs": [],
   "source": [
    "img_back = np.zeros((800,1000,3), dtype = np.uint8)\n",
    "#=========================TEXT=======================================\n",
    "text = \"PARVIN RASHINMEHR\"\n",
    "cv2.putText(img_back, text, (200, 80), cv2.FONT_HERSHEY_SIMPLEX, 2, (0, 255, 0), 3)\n",
    "#===========================TRiangle=================================\n",
    "points = np.array ([[300, 300], [500, 100], [700, 300]])\n",
    "cv2.fillPoly(img_back, [points], (50, 100, 200))\n",
    "#============================Rectangle===============================\n",
    "p1 = (300, 300)\n",
    "p2 = (700, 400)\n",
    "cv2.rectangle(img_back, p1, p2, (100, 100, 200), -2)\n",
    "#=============================Rectangle===============================\n",
    "cv2.rectangle(img_back, (300, 300), (700, 700), (200, 255, 200), 2)\n",
    "#=============================Eye====================================\n",
    "# p3 = (320, 470)\n",
    "# p4 = (370, 520)\n",
    "# cv2.line(img_back, p3, p4, (0, 255, 0), 2)\n",
    "# p5 = (320, 520)\n",
    "# p6= (370, 470)\n",
    "# cv2.line(img_back, p5, p6, (0, 255, 0), 2)\n",
    "# p7 = (620, 470)\n",
    "# p8 = (670, 520)\n",
    "# cv2.line(img_back, p7, p8, (0, 255, 0), 2)\n",
    "# p9 = (620, 520)\n",
    "# p10= (670, 470)\n",
    "# cv2.line(img_back, p9, p10, (0, 255, 0), 2)\n",
    "#***********************************OR**************************************\n",
    "cv2.line(img_back,(320, 470), (370, 520), (0, 255, 0), 2)\n",
    "cv2.line(img_back, (320, 520), (370, 470), (0, 255, 0), 2)\n",
    "cv2.line(img_back,(620, 470), (670, 520), (0, 255, 0), 2)\n",
    "cv2.line(img_back, (620, 520), (670, 470), (0, 255, 0), 2)\n",
    "#=================================Mouth======================================\n",
    "cv2.circle(img_back, (500, 650), 40, (255, 0, 0), thickness = -2)\n",
    "#=================================Legs=======================================\n",
    "cv2.rectangle(img_back, (330, 700), (430,780), (100, 100, 200), 2)\n",
    "cv2.rectangle(img_back, (570, 700), (670,780), (100, 100, 200), 2)\n",
    "#==================================Hand======================================\n",
    "\n",
    "cv2.line(img_back, (300, 400), (100, 500), (50, 100, 200), 2)\n",
    "cv2.line(img_back, (100, 500), (300,550 ), (100, 52, 150), 2)\n",
    "cv2.line(img_back, (700, 400), (900, 500), (50, 100, 200), 2)\n",
    "cv2.line(img_back, (900, 500), (700,550 ), (100, 52, 150), 2)\n",
    "\n",
    "\n",
    "\n",
    "cv2.imshow(\"Figure\", img_back)\n",
    "cv2.waitKey(0)\n",
    "cv2.destroyAllWindows()"
   ]
  },
  {
   "cell_type": "code",
   "execution_count": null,
   "id": "f9133406",
   "metadata": {},
   "outputs": [],
   "source": []
  },
  {
   "cell_type": "code",
   "execution_count": null,
   "id": "d587541a",
   "metadata": {},
   "outputs": [],
   "source": []
  }
 ],
 "metadata": {
  "kernelspec": {
   "display_name": "Python 3 (ipykernel)",
   "language": "python",
   "name": "python3"
  },
  "language_info": {
   "codemirror_mode": {
    "name": "ipython",
    "version": 3
   },
   "file_extension": ".py",
   "mimetype": "text/x-python",
   "name": "python",
   "nbconvert_exporter": "python",
   "pygments_lexer": "ipython3",
   "version": "3.11.4"
  }
 },
 "nbformat": 4,
 "nbformat_minor": 5
}
