{
 "cells": [
  {
   "cell_type": "code",
   "execution_count": null,
   "id": "a45238d5",
   "metadata": {},
   "outputs": [],
   "source": [
    "import cv2\n"
   ]
  },
  {
   "cell_type": "code",
   "execution_count": null,
   "id": "8042feda",
   "metadata": {},
   "outputs": [],
   "source": [
    "img = cv2.imread (\"bbb.jpg\", cv2.IMREAD_UNCHANGED)"
   ]
  },
  {
   "cell_type": "code",
   "execution_count": null,
   "id": "d97f41ef",
   "metadata": {},
   "outputs": [],
   "source": [
    "print(img.shape)"
   ]
  },
  {
   "cell_type": "code",
   "execution_count": null,
   "id": "3362978f",
   "metadata": {},
   "outputs": [],
   "source": [
    "cv2.imshow(\"car\", img)\n",
    "cv2.waitKey(0)\n",
    "cv2.destroyAllWindows()"
   ]
  },
  {
   "cell_type": "code",
   "execution_count": null,
   "id": "5cd0514f",
   "metadata": {},
   "outputs": [],
   "source": [
    "img[0,0]"
   ]
  },
  {
   "cell_type": "code",
   "execution_count": null,
   "id": "20955bb7",
   "metadata": {},
   "outputs": [],
   "source": [
    "img[100,250,1]"
   ]
  },
  {
   "cell_type": "code",
   "execution_count": null,
   "id": "6cf61f2f",
   "metadata": {},
   "outputs": [],
   "source": [
    "for i in range(img.shape[0]):\n",
    "    for j in range(img.shape[1]):\n",
    "        if j%10 == 0:\n",
    "            img[i,j] = [250, 255, 30]\n",
    "cv2.imshow(\"car\", img)\n",
    "cv2.waitKey(0)\n",
    "cv2.destroyAllWindows()"
   ]
  },
  {
   "cell_type": "code",
   "execution_count": null,
   "id": "d88125a4",
   "metadata": {},
   "outputs": [],
   "source": [
    "img_roi = img[200:250,150:300 ]\n",
    "cv2.imshow(\"car_roi\", img_roi)\n",
    "cv2.waitKey(0)\n",
    "cv2.destroyAllWindows()"
   ]
  },
  {
   "cell_type": "code",
   "execution_count": null,
   "id": "e0c8d667",
   "metadata": {},
   "outputs": [],
   "source": [
    "import numpy as np\n",
    "img_background1 = np.ones((600, 600, 3), dtype = np.uint8)\n",
    "\n",
    "cv2.imshow(\"Triangle\", img_background1)\n",
    "cv2.waitKey(0)\n",
    "cv2.destroyAllWindows()\n",
    "\n",
    "p1 = (100, 500)\n",
    "p2 = (300, 100)\n",
    "p3 = (500, 500)\n",
    "\n",
    "cv2.line(img_background1, p1, p2, (50, 100, 200), 10)\n",
    "cv2.line(img_background1, p2, p3, (100, 52, 150), 15)\n",
    "cv2.line(img_background1, p3, p1, (40, 120, 150), 12)\n",
    "\n"
   ]
  },
  {
   "cell_type": "code",
   "execution_count": null,
   "id": "dc263a1b",
   "metadata": {},
   "outputs": [],
   "source": [
    "cv2.imshow(\"Triangle\", img_background1)\n",
    "cv2.waitKey(0)\n",
    "cv2.destroyAllWindows()"
   ]
  },
  {
   "cell_type": "code",
   "execution_count": null,
   "id": "5d20ce97",
   "metadata": {},
   "outputs": [],
   "source": [
    "import numpy as np\n",
    "img_background2 = np.zeros((600, 600, 3), dtype = np.uint8)\n",
    "\n",
    "\n",
    "p1 = (450, 400)\n",
    "p2 = (200, 300)\n",
    "\n",
    "cv2.rectangle(img_background2, p1, p2, (100, 100, 200), 10)\n",
    "\n",
    "\n",
    "cv2.imshow(\"Rectangle\", img_background2)\n",
    "cv2.waitKey(0)\n",
    "cv2.destroyAllWindows()"
   ]
  },
  {
   "cell_type": "code",
   "execution_count": null,
   "id": "72dae4df",
   "metadata": {},
   "outputs": [],
   "source": [
    "import numpy as np\n",
    "img_background3 = np.zeros((600, 600, 3), dtype = np.uint8)\n",
    "\n",
    "\n",
    "p1 = (450, 400)\n",
    "p2 = (200, 300)\n",
    "\n",
    "cv2.rectangle(img_background3, p1, p2, (200, 100, 200), -10)\n",
    "\n",
    "\n",
    "cv2.imshow(\"Rectangle\", img_background2)\n",
    "cv2.waitKey(0)\n",
    "cv2.destroyAllWindows()"
   ]
  },
  {
   "cell_type": "code",
   "execution_count": 24,
   "id": "72f85957",
   "metadata": {},
   "outputs": [],
   "source": [
    "import cv2\n",
    "import numpy as np\n",
    "img_background4 = np.zeros((800, 800, 3), dtype = np.uint8)\n",
    "\n",
    "\n",
    "p1 = (400, 400)\n",
    "p2 = 50\n",
    "\n",
    "cv2.circle(img_background4, p1, p2, (0, 0, 255), thickness = -1)\n",
    "cv2.circle(img_background4, p1, 100, (255, 0, 0), thickness = 5)\n",
    "cv2.circle(img_background4, p1, 150, (0, 255, 0), thickness = 10)\n",
    "\n",
    "cv2.imshow(\"Circle\", img_background4)\n",
    "cv2.waitKey(0)\n",
    "cv2.destroyAllWindows()"
   ]
  },
  {
   "cell_type": "code",
   "execution_count": null,
   "id": "505658d2",
   "metadata": {},
   "outputs": [],
   "source": [
    "Text = \"Parvin Rashin mehr\"\n",
    "cv2.putText(img_background4, Text, (80, 80), cv2.FONT_HERSHEY_SIMPLEX, 2, (255, 0, 0), 3)\n",
    "\n",
    "cv2.imshow(\"Circle\", img_background4)\n",
    "cv2.waitKey(0)\n",
    "cv2.destroyAllWindows()"
   ]
  },
  {
   "cell_type": "code",
   "execution_count": null,
   "id": "061a0ae7",
   "metadata": {},
   "outputs": [],
   "source": []
  }
 ],
 "metadata": {
  "kernelspec": {
   "display_name": "Python 3 (ipykernel)",
   "language": "python",
   "name": "python3"
  },
  "language_info": {
   "codemirror_mode": {
    "name": "ipython",
    "version": 3
   },
   "file_extension": ".py",
   "mimetype": "text/x-python",
   "name": "python",
   "nbconvert_exporter": "python",
   "pygments_lexer": "ipython3",
   "version": "3.11.4"
  }
 },
 "nbformat": 4,
 "nbformat_minor": 5
}
